{
 "cells": [
  {
   "cell_type": "markdown",
   "id": "b393943c",
   "metadata": {},
   "source": [
    "# PAMI: A Python library for Pattern Mining\n",
    "\n",
    "### Source\n",
    "\n",
    "Towards Data Science: https://towardsdatascience.com/hello-i-am-pami-937439c7984d\n",
    "\n",
    "Github: https://github.com/udayRage/PAMI\n",
    "\n",
    "User Manual: https://udayrage.github.io/PAMI/index.html"
   ]
  },
  {
   "cell_type": "code",
   "execution_count": 1,
   "id": "d22852d9",
   "metadata": {},
   "outputs": [],
   "source": [
    "# Install the library\n",
    "! pip install pami"
   ]
  },
  {
   "cell_type": "markdown",
   "id": "4cc60a21",
   "metadata": {},
   "source": [
    "### What is the organizational structure of PAMI?\n",
    "\n",
    "The algorithms in PAMI have been organized in an hierarchical fashion. The format of this hierarchy is,\n",
    "\n",
    "    PAMI.patternMiningModel.typeOfPattern.Algorithm\n",
    "\n",
    "1. patternMiningModel — denotes the type of pattern that needs to be discovered, such as frequent pattern, correlated pattern, fuzzy frequent pattern, etc.\n",
    "\n",
    "2. typeOfPattern — denotes the classification of the pattern. Currently, PAMI implements four types of patterns. (i) basic — find all patterns in the data, (ii) closed — find only closed patterns in the data, (iii) maximal — find only maximal patterns in the data and (iv) topK — find top-k patterns in the data.\n",
    "\n",
    "3. Algorithm — denotes the technique used for discovering the patterns.\n",
    "\n",
    "\n",
    "An example is\n",
    "\n",
    "    PAMI.frequentPattern.basic.FPGrowth\n",
    "    \n",
    "\n",
    "where frequentPattern is the model, basic is the pattern type, and FPGrowth is the mining algorithm."
   ]
  },
  {
   "cell_type": "markdown",
   "id": "5cbfd221",
   "metadata": {},
   "source": [
    "### How to utilize PAMI in order to discover frequent patterns?\n",
    "\n",
    "Frequent pattern mining is an important knowledge discovery technique in Big Data Analytics. It involves identifying all itemsets (or patterns) that are occurring frequently in the data. A classic application is a market-basket analytics. It involves identifying the itemsets that were frequently purchased by the customers. An example of a frequent pattern is:\n",
    "\n",
    "    {Beer, Cheese}     [support=10%]\n",
    "    \n",
    "The above pattern says that 10% of the customers have purchased the items ‘Beer’ and ‘Cheese’ together. Such a piece of information can be found extremely useful for the users in the placement of the products and inventory management.\n",
    "\n",
    "More information on frequent pattern mining can be found at\n",
    "\n",
    "https://link.springer.com/article/10.1007/s10618-018-0556-z\n",
    "\n",
    "\n",
    "### We now walk through the step-by-step process of frequent pattern mining using the PAMI library.\n",
    "\n",
    "1. Download the transactional Retail dataset at https://www.u-aizu.ac.jp/~udayrage/datasets/transactionalDatabases/transactional_retail.csv"
   ]
  },
  {
   "cell_type": "code",
   "execution_count": 13,
   "id": "27b81aa6",
   "metadata": {},
   "outputs": [
    {
     "name": "stdout",
     "output_type": "stream",
     "text": [
      "0\t1\t2\t3\t4\t5\t6\t7\t8\t9\t10\t11\t12\t13\t14\t15\t16\t17\t18\t19\t20\t21\t22\t23\t24\t25\t26\t27\t28\t29\n",
      "\n",
      "----------------\n",
      "30\t31\t32\n",
      "\n",
      "----------------\n",
      "33\t34\t35\n",
      "\n",
      "----------------\n",
      "36\t37\t38\t39\t40\t41\t42\t43\t44\t45\t46\n",
      "\n",
      "----------------\n",
      "38\t39\t47\t48\n",
      "\n",
      "----------------\n",
      "38\t39\t48\t49\t50\t51\t52\t53\t54\t55\t56\t57\t58\n",
      "\n",
      "----------------\n"
     ]
    }
   ],
   "source": [
    "# check the dataset\n",
    "with open('transactional_retail.csv', encoding='utf8') as FI:\n",
    "    i = 0\n",
    "    for line in FI:\n",
    "        print(line)\n",
    "        print('----------------')\n",
    "        i += 1\n",
    "        if i> 5:\n",
    "            break"
   ]
  },
  {
   "cell_type": "markdown",
   "id": "c60adac4",
   "metadata": {},
   "source": [
    "2. FP-growth is a famous algorithm for frequent pattern mining. Let us first import this algorithm by executing the following command"
   ]
  },
  {
   "cell_type": "code",
   "execution_count": 2,
   "id": "0b873729",
   "metadata": {},
   "outputs": [],
   "source": [
    "from PAMI.frequentPattern.basic import FPGrowth as alg"
   ]
  },
  {
   "cell_type": "markdown",
   "id": "323e30e4",
   "metadata": {},
   "source": [
    "3. Initialize the FP-growth algorithm by providing the file, minimum support (minSup), and separator as the input parameters."
   ]
  },
  {
   "cell_type": "code",
   "execution_count": 3,
   "id": "4f375229",
   "metadata": {},
   "outputs": [],
   "source": [
    "obj = alg.FPGrowth('transactional_retail.csv',100,'\\t')\n",
    "\n",
    "# 'transactional_retail.csv' is the input file downloaded from the URL\n",
    "\n",
    "#100 is the minimum support count. \n",
    "\n",
    "#\\t is the separetor that exist between the items in a transaction"
   ]
  },
  {
   "cell_type": "markdown",
   "id": "748a1947",
   "metadata": {},
   "source": [
    "4. Start the mining process"
   ]
  },
  {
   "cell_type": "code",
   "execution_count": 4,
   "id": "0136ddf4",
   "metadata": {},
   "outputs": [
    {
     "name": "stdout",
     "output_type": "stream",
     "text": [
      "Frequent patterns were generated successfully using frequentPatternGrowth algorithm\n"
     ]
    }
   ],
   "source": [
    "obj.startMine()"
   ]
  },
  {
   "cell_type": "markdown",
   "id": "db397a22",
   "metadata": {},
   "source": [
    "5. Show the discovered patterns:"
   ]
  },
  {
   "cell_type": "code",
   "execution_count": 14,
   "id": "e155187e",
   "metadata": {},
   "outputs": [
    {
     "data": {
      "text/html": [
       "<div>\n",
       "<style scoped>\n",
       "    .dataframe tbody tr th:only-of-type {\n",
       "        vertical-align: middle;\n",
       "    }\n",
       "\n",
       "    .dataframe tbody tr th {\n",
       "        vertical-align: top;\n",
       "    }\n",
       "\n",
       "    .dataframe thead th {\n",
       "        text-align: right;\n",
       "    }\n",
       "</style>\n",
       "<table border=\"1\" class=\"dataframe\">\n",
       "  <thead>\n",
       "    <tr style=\"text-align: right;\">\n",
       "      <th></th>\n",
       "      <th>Patterns</th>\n",
       "      <th>Support</th>\n",
       "    </tr>\n",
       "  </thead>\n",
       "  <tbody>\n",
       "    <tr>\n",
       "      <th>0</th>\n",
       "      <td>14248</td>\n",
       "      <td>100</td>\n",
       "    </tr>\n",
       "    <tr>\n",
       "      <th>1</th>\n",
       "      <td>7540</td>\n",
       "      <td>100</td>\n",
       "    </tr>\n",
       "    <tr>\n",
       "      <th>2</th>\n",
       "      <td>6998</td>\n",
       "      <td>100</td>\n",
       "    </tr>\n",
       "    <tr>\n",
       "      <th>3</th>\n",
       "      <td>6173</td>\n",
       "      <td>100</td>\n",
       "    </tr>\n",
       "    <tr>\n",
       "      <th>4</th>\n",
       "      <td>6024</td>\n",
       "      <td>100</td>\n",
       "    </tr>\n",
       "    <tr>\n",
       "      <th>...</th>\n",
       "      <td>...</td>\n",
       "      <td>...</td>\n",
       "    </tr>\n",
       "    <tr>\n",
       "      <th>6446</th>\n",
       "      <td>38 48 39</td>\n",
       "      <td>6102</td>\n",
       "    </tr>\n",
       "    <tr>\n",
       "      <th>6447</th>\n",
       "      <td>38 39</td>\n",
       "      <td>10345</td>\n",
       "    </tr>\n",
       "    <tr>\n",
       "      <th>6448</th>\n",
       "      <td>48</td>\n",
       "      <td>42135</td>\n",
       "    </tr>\n",
       "    <tr>\n",
       "      <th>6449</th>\n",
       "      <td>48 39</td>\n",
       "      <td>29142</td>\n",
       "    </tr>\n",
       "    <tr>\n",
       "      <th>6450</th>\n",
       "      <td>39</td>\n",
       "      <td>50675</td>\n",
       "    </tr>\n",
       "  </tbody>\n",
       "</table>\n",
       "<p>6451 rows × 2 columns</p>\n",
       "</div>"
      ],
      "text/plain": [
       "       Patterns  Support\n",
       "0        14248       100\n",
       "1         7540       100\n",
       "2         6998       100\n",
       "3         6173       100\n",
       "4         6024       100\n",
       "...         ...      ...\n",
       "6446  38 48 39      6102\n",
       "6447     38 39     10345\n",
       "6448        48     42135\n",
       "6449     48 39     29142\n",
       "6450        39     50675\n",
       "\n",
       "[6451 rows x 2 columns]"
      ]
     },
     "execution_count": 14,
     "metadata": {},
     "output_type": "execute_result"
    }
   ],
   "source": [
    "df = obj.getPatternsAsDataFrame()\n",
    "df"
   ]
  },
  {
   "cell_type": "markdown",
   "id": "62e530a3",
   "metadata": {},
   "source": [
    "6. Save the patterns in a file by executing the following code:"
   ]
  },
  {
   "cell_type": "code",
   "execution_count": 6,
   "id": "a9da6f3d",
   "metadata": {},
   "outputs": [],
   "source": [
    "obj.savePatterns('frequentPatters_100.txt')\n",
    "# 100 is the minSup count\n",
    "# In the output file, say frequentPatters_100.txt, the first column is the pattern and the second column is the support."
   ]
  },
  {
   "cell_type": "markdown",
   "id": "aa5d6f28",
   "metadata": {},
   "source": [
    "7. Runtime and memory requirements of the mining algorithm can be derived by executing the following code:"
   ]
  },
  {
   "cell_type": "code",
   "execution_count": 15,
   "id": "601f39be",
   "metadata": {},
   "outputs": [
    {
     "name": "stdout",
     "output_type": "stream",
     "text": [
      "Runtime: 19.962828397750854\n",
      "Memory: 335929344\n"
     ]
    }
   ],
   "source": [
    "print('Runtime: ' + str(obj.getRuntime()))\n",
    "print('Memory: ' + str(obj.getMemoryRSS()))"
   ]
  }
 ],
 "metadata": {
  "kernelspec": {
   "display_name": "Python 3",
   "language": "python",
   "name": "python3"
  },
  "language_info": {
   "codemirror_mode": {
    "name": "ipython",
    "version": 3
   },
   "file_extension": ".py",
   "mimetype": "text/x-python",
   "name": "python",
   "nbconvert_exporter": "python",
   "pygments_lexer": "ipython3",
   "version": "3.8.8"
  }
 },
 "nbformat": 4,
 "nbformat_minor": 5
}
