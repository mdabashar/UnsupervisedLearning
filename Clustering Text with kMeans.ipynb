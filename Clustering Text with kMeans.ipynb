{
 "cells": [
  {
   "cell_type": "markdown",
   "id": "4659f479",
   "metadata": {},
   "source": [
    "### Text Clustering with kMeans"
   ]
  },
  {
   "cell_type": "markdown",
   "id": "678941d5",
   "metadata": {},
   "source": [
    "### Load Data\n",
    "\n",
    "In our example below we are using the 20newsgroup dataset that is available in Scikit-learn datasets. This dataset consists article of 20 groups but in our example, we are filtering only for two categories soc.religion.christian and comp.graphics. Lets load dataset for train and test data."
   ]
  },
  {
   "cell_type": "code",
   "execution_count": 1,
   "id": "77c7cfb6",
   "metadata": {},
   "outputs": [
    {
     "data": {
      "text/plain": [
       "(1183, 787)"
      ]
     },
     "execution_count": 1,
     "metadata": {},
     "output_type": "execute_result"
    }
   ],
   "source": [
    "from sklearn.datasets import fetch_20newsgroups\n",
    "\n",
    "categories = ['soc.religion.christian',\n",
    "              'comp.graphics']\n",
    "# Load Data\n",
    "twenty_train = fetch_20newsgroups(subset='train', categories=categories, shuffle=True, random_state=42)\n",
    "twenty_test = fetch_20newsgroups(subset='test', categories=categories, shuffle=True, random_state=42)\n",
    "\n",
    "# Check number of records in training and testing data\n",
    "len(twenty_train.data),len(twenty_test.data)"
   ]
  },
  {
   "cell_type": "code",
   "execution_count": 4,
   "id": "3d5c02fb",
   "metadata": {},
   "outputs": [
    {
     "data": {
      "text/plain": [
       "'From: dan@ingres.com (a Rose arose)\\nSubject: Re: earthquake prediction\\nOrganization: Representing my own views here.\\nLines: 75\\n\\nmserv@mozart.cc.iup.edu (Mail Server) writes:\\n: Ok, a few days back, the below-included message was posted stating: \\n: \\n: >     I believe with everything in my heart that on May 3, 1993, the city of\\n: >Portland, Oregon in the country of the United States of America will be hit\\n: >with a catastrophic and disastrous earthquake...\\n: \\n: By now, we know that this did not come to pass....\\n: \\n: ...I don\\'t think it\\'s particularly \\n: glorifying to God to say things like \"Well, I THINK the Lord is telling me...\", \\n: ..Such statements seem to me to be an attempt to get a spiritual thrill should \\n: the guess happen to come true, without risking the guilt of false prophecy \\n: should it fail to come to pass.  I do not believe genuine prophecy was ever \\n: like this.  Comments?\\n: \\n\\nI agree.   People should not be misled to believe \"thus sayeth the Lord\" by\\ninnuendo or opinion or speculation.\\n\\nSpeak directly.  If the Lord has given you something to say, say it.\\nBut, before I declare \"thus sayeth the Lord\", I\\'d better know for certain\\nwithout a shadow of a doubt that I am in the correct spiritual condition\\nand relationship with the Lord to receive such a prophecy and be absolutely\\ncertain, again, without the tiniest shadow of a doubt that there is no\\npossibility of my being misled by my own imaginations or by my hope of gaining\\nrecognition or of being misled by the wiles of the devil and his followers.\\n\\nMistakes in this area are costly and dangerous.  For me, my greatest fears\\nin this area would be the following:\\n\\n1--that the people would be misled\\n2--that people would lose respect for christianity\\n3--that true prophecy would be clouded by all the false prophecies\\n4--were God to call me to be a prophet and I were to misrepresent God\\'s Word,\\n   my calling would be lost forever.  God\\'s Word would command the people\\n   never to listen to or fear my words as I would be a false prophet.  My\\n   bridges would be burnt forever.  Perhaps I could repent and be saved, but\\n   I could never again be a prophet of God.\\n\\nIn the light of this, it is critical that we speak when the Lord says speak\\nand that we be silent when the Lord says to be silent lest we deprive the\\nworld of God\\'s Word and hide it under a bushel either by our inappropriate,\\ncowardly silence or by our false statements.  And because of this, it\\nis critically important that we remain close to the Lord, in His Word, and\\nin prayer, and filled with the Spirit of God so that we know the difference.\\n\\nIn this day and age, sinners spout off their mouths left and right judging\\none another, claiming \"rights\" that are not theirs, denying rights that do\\nindeed belong to others, demanding equal respect for all the \"gods\" of this\\nworld, and uttering every form of falseness that promises to make one feel\\ngood.\\n\\nIt\\'s time that we christians give an example of honesty that stands out in\\ncontrast against this backdrop of falsehood.  When we say, \"thus sayeth the\\nLord\", it happens.  When we pray, prayer is answered because we prayed right.\\nWhen we say we\\'re christians, we really mean it.\\n\\n           Dan\\n\\n--\\n-----------------------------------------------------------------------\\n\\t\"I deplore the horrible crime of child murder...\\n\\t We want prevention, not merely punishment.\\n\\t We must reach the root of the evil...\\n\\t It is practiced by those whose inmost souls revolt\\n\\t from the dreadful deed...\\n\\t No mater what the motive, love of ease,\\n\\t\\tor a desire to save from suffering the unborn innocent,\\n\\t\\tthe woman is awfully guilty who commits the deed...\\n\\t but oh! thrice guilty is he who drove her\\n\\t\\tto the desperation which impelled her to the crime.\"\\n\\n\\t\\t- Susan B. Anthony,\\n\\t\\t  The Revolution July 8, 1869\\n'"
      ]
     },
     "execution_count": 4,
     "metadata": {},
     "output_type": "execute_result"
    }
   ],
   "source": [
    "twenty_test.data[0]"
   ]
  },
  {
   "cell_type": "markdown",
   "id": "823f0003",
   "metadata": {},
   "source": [
    "### Generate the features using TF-IDF vectorization"
   ]
  },
  {
   "cell_type": "code",
   "execution_count": 2,
   "id": "c622fa96",
   "metadata": {},
   "outputs": [
    {
     "data": {
      "text/plain": [
       "(1183, 22690)"
      ]
     },
     "execution_count": 2,
     "metadata": {},
     "output_type": "execute_result"
    }
   ],
   "source": [
    "# TF-IDF Feature Generation\n",
    "from sklearn.feature_extraction.text import TfidfVectorizer\n",
    "from nltk.tokenize import RegexpTokenizer\n",
    "\n",
    "# Initialize regex tokenizer\n",
    "tokenizer = RegexpTokenizer(r'\\w+')\n",
    "\n",
    "# # Vectorize document using TF-IDF\n",
    "tf_idf_vect = TfidfVectorizer(lowercase=True,\n",
    "                        stop_words='english',\n",
    "                        ngram_range = (1,1),\n",
    "                        tokenizer = tokenizer.tokenize)\n",
    "\n",
    "# Fit and Transfrom Text Data\n",
    "X_train_counts = tf_idf_vect.fit_transform(twenty_train.data)\n",
    "\n",
    "# Check Shape of Count Vector\n",
    "X_train_counts.shape"
   ]
  },
  {
   "cell_type": "markdown",
   "id": "98032f5d",
   "metadata": {},
   "source": [
    "### perform k-means clustering"
   ]
  },
  {
   "cell_type": "code",
   "execution_count": 5,
   "id": "71f22ddd",
   "metadata": {},
   "outputs": [],
   "source": [
    "# Import KMeans Model\n",
    "from sklearn.cluster import KMeans\n",
    "\n",
    "# Create Kmeans object and fit it to the training data \n",
    "kmeans = KMeans(n_clusters=2).fit(X_train_counts)\n",
    "\n",
    "# Get the labels using KMeans\n",
    "pred_labels = kmeans.labels_"
   ]
  },
  {
   "cell_type": "markdown",
   "id": "ff71cdc9",
   "metadata": {},
   "source": [
    "### Evaluate Clustering Performance\n",
    "\n",
    "First, we can evaluate the clustering using Davies-Bouldin Index and Silhouette Score. "
   ]
  },
  {
   "cell_type": "code",
   "execution_count": null,
   "id": "2351f0d1",
   "metadata": {},
   "outputs": [],
   "source": []
  },
  {
   "cell_type": "markdown",
   "id": "4e39657a",
   "metadata": {},
   "source": [
    "Reference: https://machinelearninggeek.com/text-clustering-clustering-news-articles/"
   ]
  }
 ],
 "metadata": {
  "kernelspec": {
   "display_name": "Python 3",
   "language": "python",
   "name": "python3"
  },
  "language_info": {
   "codemirror_mode": {
    "name": "ipython",
    "version": 3
   },
   "file_extension": ".py",
   "mimetype": "text/x-python",
   "name": "python",
   "nbconvert_exporter": "python",
   "pygments_lexer": "ipython3",
   "version": "3.8.8"
  }
 },
 "nbformat": 4,
 "nbformat_minor": 5
}
