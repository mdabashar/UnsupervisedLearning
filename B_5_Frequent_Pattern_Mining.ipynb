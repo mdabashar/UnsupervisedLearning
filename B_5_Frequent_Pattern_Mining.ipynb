{
 "cells": [
  {
   "cell_type": "markdown",
   "metadata": {
    "id": "F10HBP2zCJ0z"
   },
   "source": [
    "**Frequent Patterns:**\n",
    "Here we will mine some common types of frequent patterns that are\n",
    "1. Basic frequent patterns\n",
    "2. Closed frequent patterns\n",
    "3. Maximal frequent patterns\n",
    "4. top-K frequent patterns"
   ]
  },
  {
   "cell_type": "code",
   "execution_count": null,
   "metadata": {
    "cellView": "form",
    "colab": {
     "base_uri": "https://localhost:8080/"
    },
    "executionInfo": {
     "elapsed": 23168,
     "status": "ok",
     "timestamp": 1657394282550,
     "user": {
      "displayName": "Data Science",
      "userId": "17975437373065072687"
     },
     "user_tz": -600
    },
    "id": "4EWe5_WcaaPe",
    "outputId": "365c658b-6b6a-4bc3-f84c-c8ad2a740596"
   },
   "outputs": [],
   "source": [
    "#@title\n",
    "# These few lines of codes are to allow importing custom module in colab (no need if using local/dedicated server)\n",
    "\n",
    "### Write the location of the current folder\n",
    "BASE = '/content/gdrive/My Drive/QutX/B_5_Association_Mining'\n",
    "\n",
    "from google.colab import drive\n",
    "drive.mount('/content/gdrive')\n",
    "\n",
    "import sys\n",
    "sys.path.insert(0, BASE)"
   ]
  },
  {
   "cell_type": "code",
   "execution_count": null,
   "metadata": {
    "cellView": "form",
    "id": "VmxHtT6DVlB8"
   },
   "outputs": [],
   "source": [
    "#@title\n",
    "# These few lines of codes are to allow loading files from google drive (no need if using local/dedicated server)\n",
    "!pip install -U -q PyDrive\n",
    "from gd_file_handler import GoogleDriveFileHandler\n",
    "\n",
    "### Write the link of the file on the GoogleDrive\n",
    "link = 'https://drive.google.com/file/d/1P7C3UrLf4B1hamEVYl0Y74QlnWC6PtS0/view?usp=sharing'\n",
    "### Write the file name\n",
    "file_name = 'transactional_retail.csv'\n",
    "\n",
    "gd_file_h = GoogleDriveFileHandler()\n",
    "gd_file_h.download_file(link, file_name)"
   ]
  },
  {
   "cell_type": "code",
   "execution_count": null,
   "metadata": {
    "id": "8p-EBXuLboKR"
   },
   "outputs": [],
   "source": [
    "#@title\n",
    "# check the dataset\n",
    "N = 0\n",
    "db = []\n",
    "with open('transactional_retail.csv', encoding='utf8') as FI:\n",
    "    for line in FI:\n",
    "        N += 1\n",
    "        db.append(line.strip().split('\\t'))"
   ]
  },
  {
   "cell_type": "markdown",
   "metadata": {
    "id": "P3iDdEYydWYG"
   },
   "source": [
    "**Install PAMI library**"
   ]
  },
  {
   "cell_type": "code",
   "execution_count": null,
   "metadata": {
    "colab": {
     "base_uri": "https://localhost:8080/"
    },
    "executionInfo": {
     "elapsed": 64573,
     "status": "ok",
     "timestamp": 1657394498334,
     "user": {
      "displayName": "Data Science",
      "userId": "17975437373065072687"
     },
     "user_tz": -600
    },
    "id": "uhUSVtsXcmT5",
    "outputId": "38da3e4f-2ed3-493c-b3d8-1ada28fef6af"
   },
   "outputs": [],
   "source": [
    "! pip install pami # This command works only on Linux and Mac OS (On Windows, need to install using command prompt)"
   ]
  },
  {
   "cell_type": "markdown",
   "metadata": {
    "id": "JeaeuRsSjAug"
   },
   "source": [
    "**Inport required libraries**\n",
    "\n",
    "### What is the organizational structure of PAMI?\n",
    "\n",
    "The algorithms in PAMI have been organized in an hierarchical fashion. The format of this hierarchy is,\n",
    "\n",
    "    PAMI.patternMiningModel.typeOfPattern.Algorithm\n",
    "\n",
    "1. patternMiningModel — denotes the type of pattern that needs to be discovered, such as frequent pattern, correlated pattern, fuzzy frequent pattern, etc.\n",
    "\n",
    "2. typeOfPattern — denotes the classification of the pattern. Currently, PAMI implements four types of patterns. (i) basic — find all patterns in the data, (ii) closed — find only closed patterns in the data, (iii) maximal — find only maximal patterns in the data and (iv) topK — find top-k patterns in the data.\n",
    "\n",
    "3. Algorithm — denotes the technique used for discovering the patterns.\n",
    "\n",
    "\n",
    "An example is\n",
    "\n",
    "    PAMI.frequentPattern.basic.FPGrowth\n",
    "    \n",
    "\n",
    "where frequentPattern is the model, basic is the pattern type, and FPGrowth is the mining algorithm."
   ]
  },
  {
   "cell_type": "code",
   "execution_count": null,
   "metadata": {
    "id": "smEXZa8li2o6"
   },
   "outputs": [],
   "source": [
    "from PAMI.frequentPattern.basic import FPGrowth as freq_alg\n",
    "from PAMI.frequentPattern.basic import Apriori as freq_apriori\n",
    "from PAMI.frequentPattern.closed import CHARM as closed_alg\n",
    "from PAMI.frequentPattern.maximal import MaxFPGrowth as maximal_alg\n",
    "from PAMI.frequentPattern.topk import FAE as topK_alg\n",
    "\n",
    "from PAMI.sequentialPatternMining import prefixSpan as seq_alg\n",
    "from PAMI.AssociationRules import RuleMiner as rule_alg"
   ]
  },
  {
   "cell_type": "markdown",
   "metadata": {
    "id": "eFDDWk2ujTmx"
   },
   "source": [
    "**Find frequent patterns**\n",
    "\n",
    "An example of finding two item frequent patterns when minimum support is defined to be 2. \n",
    "\n",
    "<img src='https://miro.medium.com/max/836/1*OpcjjDrGMe650au1AlXJdA.png'> </br>\n",
    "\n",
    "<img src='https://miro.medium.com/max/840/1*gjetx2BB8ejqkRtWuzWltg.png'> </br>\n",
    "\n",
    "<img src='https://miro.medium.com/max/832/1*KBqNzc4mp-DlBeJc36XubA.png'> </br>"
   ]
  },
  {
   "cell_type": "code",
   "execution_count": null,
   "metadata": {
    "id": "Jf6wd8yTeZEh"
   },
   "outputs": [],
   "source": [
    "# Initialize the FP-growth algorithm by providing the file, minimum support (minSup), and separator as the input parameters.\n",
    "\n",
    "obj = freq_alg.FPGrowth('transactional_retail.csv',100,'\\t')\n",
    "\n",
    "# 'transactional_retail.csv' is the input file downloaded from the URL https://www.u-aizu.ac.jp/~udayrage/datasets/transactionalDatabases/transactional_retail.csv\n",
    "\n",
    "# 100 is the minimum support count. \n",
    "\n",
    "#\\t is the separetor that exist between the items in a transaction"
   ]
  },
  {
   "cell_type": "code",
   "execution_count": null,
   "metadata": {
    "colab": {
     "base_uri": "https://localhost:8080/",
     "height": 345
    },
    "executionInfo": {
     "elapsed": 11632,
     "status": "error",
     "timestamp": 1657394511110,
     "user": {
      "displayName": "Data Science",
      "userId": "17975437373065072687"
     },
     "user_tz": -600
    },
    "id": "xO8UxhLkj2W1",
    "outputId": "8d5313df-3fe0-4753-8d38-ed65a537de0c"
   },
   "outputs": [],
   "source": [
    "# Start mining the pattern\n",
    "\n",
    "obj.startMine()"
   ]
  },
  {
   "cell_type": "code",
   "execution_count": null,
   "metadata": {
    "id": "9jp_t753kIuu"
   },
   "outputs": [],
   "source": [
    "# Show the discovered patterns as pandas DataFrame\n",
    "\n",
    "df = obj.getPatternsAsDataFrame()\n",
    "df"
   ]
  },
  {
   "cell_type": "code",
   "execution_count": null,
   "metadata": {
    "id": "Ba2sXdkZknEs"
   },
   "outputs": [],
   "source": [
    "# Save the patterns in a file\n",
    "\n",
    "obj.savePatterns('frequentPatters_100.txt')\n",
    "\n",
    "# In the output file, say frequentPatters_100.txt, the first column is the pattern and the second column is the support."
   ]
  },
  {
   "cell_type": "code",
   "execution_count": null,
   "metadata": {
    "id": "MXeGNLqqr88T"
   },
   "outputs": [],
   "source": [
    "# Runtime and memory requirements of the mining algorithm \n",
    "\n",
    "print('Runtime: ' + str(obj.getRuntime()))\n",
    "print('Memory: ' + str(obj.getMemoryRSS()))"
   ]
  },
  {
   "cell_type": "markdown",
   "metadata": {
    "id": "Cmw9mkRHsvCa"
   },
   "source": [
    "**Find Closed Pattern:**\n",
    "It is used to reduce the number of frequent patterns. \n",
    "\n",
    "A closed pattern is a frequent pattern. So it meets the minimum support criteria. In addition to that, all super-patterns of a closed pattern are less frequent than the closed pattern.\n",
    "\n",
    "Let’s see some examples.\n",
    "\n",
    "Suppose, the minimum support count is 2. For the first example, suppose there are a total of 3 items: a, b, c. Suppose a pattern ab has support count of 2 and a pattern abc has support count of 2. Is the pattern ab is a closed pattern? Pattern ab is a frequent pattern, but it has a super-pattern that is NOT less frequent than ab.\n",
    "\n",
    "For the second example,\n",
    "\n",
    "suppose there are a total of 3 items: x, y, z. suppose a pattern xy has support count of 3 and a pattern xyz has support count of 2. Is the pattern xy is a closed pattern? Pattern xy is a frequent pattern and also the only super-pattern xyz is less frequent than xy.\n",
    "\n",
    "Therefore, xy is a closed pattern."
   ]
  },
  {
   "cell_type": "code",
   "execution_count": null,
   "metadata": {
    "id": "ngebgk7yuJAv"
   },
   "outputs": [],
   "source": [
    "obj = closed_alg.CHARM('transactional_retail.csv',100,'\\t')\n",
    "obj.startMine()\n",
    "obj.savePatterns('closedPatters_100.txt')\n",
    "df = obj.getPatternsAsDataFrame()\n",
    "df\n"
   ]
  },
  {
   "cell_type": "markdown",
   "metadata": {
    "id": "h5Mze7L3vYth"
   },
   "source": [
    "**Find Maximal Pattern:**\n",
    "It is used to reduce the number of frequent patterns.\n",
    "\n",
    "A max pattern is a frequent pattern. So it also meets the minimum support criteria like closed pattern In addition, but unlike closed pattern, all super-patterns of a max pattern are NOT frequent patterns.\n",
    "\n",
    "Let’s see some examples as well.\n",
    "\n",
    "Suppose, the minimum support count is 2. Like before, for the first example, suppose there are a total of 3 items: a, b, c. Suppose a pattern ab has support count of 3 and a pattern abc has support count of 2. Is the pattern ab is a max pattern? Pattern ab is a frequent pattern, but it has a super-pattern that is a frequent pattern as well. So, pattern ab is NOT a max pattern.\n",
    "\n",
    "For the second example,\n",
    "\n",
    "suppose there are a total of 3 items: x, y, z. Suppose a pattern xy has support count of 3 and a pattern xyz has support count of 1. Is the pattern xy is a max pattern? Pattern xy is a frequent pattern and also the only super-pattern xyz is NOT a frequent pattern. Therefore, xy is a max pattern."
   ]
  },
  {
   "cell_type": "code",
   "execution_count": null,
   "metadata": {
    "id": "MNMlXIsMvTOR"
   },
   "outputs": [],
   "source": [
    "obj = maximal_alg.MaxFPGrowth('transactional_retail.csv',100,'\\t')\n",
    "obj.startMine()\n",
    "obj.savePatterns('maximalPatters_100.txt')\n",
    "df = obj.getPatternsAsDataFrame()\n",
    "df"
   ]
  },
  {
   "cell_type": "markdown",
   "metadata": {
    "id": "xtiAqpmFwzMc"
   },
   "source": [
    "**Find top-k Patterns:**\n",
    "It is used to reduce the number of frequent patterns.\n",
    "\n",
    "The top-K pattern aims to return the most frequent K patterns a given dataset. "
   ]
  },
  {
   "cell_type": "code",
   "execution_count": null,
   "metadata": {
    "id": "f32vY52Wwwlw"
   },
   "outputs": [],
   "source": [
    "obj = topK_alg.FAE('transactional_retail.csv',10,'\\t')\n",
    "obj.startMine()\n",
    "obj.savePatterns('topKPatters_100.txt')\n",
    "df = obj.getPatternsAsDataFrame()\n",
    "df"
   ]
  },
  {
   "cell_type": "markdown",
   "metadata": {
    "id": "LWlq3C-YiAJS"
   },
   "source": [
    "**Association Rule Mining** \n",
    "\n",
    "We will use **mlxtend** as PAMI does not support rule mining right now.\n",
    "\n",
    "Association Rule generation is a common task in the mining of frequent patterns. An association rule is an implication expression of the form X→Y, where X and Y are disjoint itemsets [1]. A more concrete example based on consumer behaviour would be {Diapers}→{Beer} suggesting that people who buy diapers are also likely to buy beer. To evaluate the \"interest\" of such an association rule, different metrics have been developed. The current implementation make use of the confidence and lift. We will use only confidence here. "
   ]
  },
  {
   "cell_type": "code",
   "execution_count": null,
   "metadata": {
    "colab": {
     "base_uri": "https://localhost:8080/",
     "height": 441
    },
    "executionInfo": {
     "elapsed": 33760,
     "status": "ok",
     "timestamp": 1657395028364,
     "user": {
      "displayName": "Data Science",
      "userId": "17975437373065072687"
     },
     "user_tz": -600
    },
    "id": "J0da1Z1XJEch",
    "outputId": "49e5c520-3d26-4bfd-8852-51008c3c1d1e"
   },
   "outputs": [],
   "source": [
    "# First we generate frequent patterns\n",
    "obj = freq_alg.FPGrowth('transactional_retail.csv',100,'\\t')\n",
    "obj.startMine()\n",
    "df = obj.getPatternsAsDataFrame()\n",
    "df"
   ]
  },
  {
   "cell_type": "code",
   "execution_count": null,
   "metadata": {
    "id": "8NudR-t3NoBl"
   },
   "outputs": [],
   "source": [
    "# Changing format for inter library compatibility of PAMI and mlxtend\n",
    "df.columns = ['itemsets', 'support']\n",
    "df['itemsets'] = df['itemsets'].apply(lambda x: frozenset(x.split()))"
   ]
  },
  {
   "cell_type": "code",
   "execution_count": null,
   "metadata": {
    "colab": {
     "base_uri": "https://localhost:8080/",
     "height": 424
    },
    "executionInfo": {
     "elapsed": 10,
     "status": "ok",
     "timestamp": 1657395028365,
     "user": {
      "displayName": "Data Science",
      "userId": "17975437373065072687"
     },
     "user_tz": -600
    },
    "id": "Nx3xww-kZ-e4",
    "outputId": "5f3e7248-3006-487b-ba03-6a6d83940cd0"
   },
   "outputs": [],
   "source": [
    "df"
   ]
  },
  {
   "cell_type": "code",
   "execution_count": null,
   "metadata": {
    "colab": {
     "base_uri": "https://localhost:8080/",
     "height": 424
    },
    "executionInfo": {
     "elapsed": 8,
     "status": "ok",
     "timestamp": 1657395028366,
     "user": {
      "displayName": "Data Science",
      "userId": "17975437373065072687"
     },
     "user_tz": -600
    },
    "id": "Uqh7WcLjNVRB",
    "outputId": "2b6eb4b3-3d69-4293-8733-b90f55359e01"
   },
   "outputs": [],
   "source": [
    "#!pip install mlxtend --upgrade\n",
    "from mlxtend.frequent_patterns import association_rules\n",
    "df_ar = association_rules(df, metric = \"confidence\", min_threshold = 0.60)\n",
    "df_ar"
   ]
  },
  {
   "cell_type": "markdown",
   "metadata": {
    "id": "75_Ihqf5Qzch"
   },
   "source": [
    "**Sequential Pattern Mining**"
   ]
  },
  {
   "cell_type": "code",
   "execution_count": null,
   "metadata": {
    "colab": {
     "base_uri": "https://localhost:8080/"
    },
    "executionInfo": {
     "elapsed": 3992,
     "status": "ok",
     "timestamp": 1657394695134,
     "user": {
      "displayName": "Data Science",
      "userId": "17975437373065072687"
     },
     "user_tz": -600
    },
    "id": "Tn4u9CmcjlhD",
    "outputId": "e3a09072-6a15-4612-85fa-a916a73e6655"
   },
   "outputs": [],
   "source": [
    "!pip install -U prefixspan"
   ]
  },
  {
   "cell_type": "code",
   "execution_count": null,
   "metadata": {
    "id": "RtuFZ6kGW5JN"
   },
   "outputs": [],
   "source": [
    "from prefixspan import PrefixSpan\n",
    "\n",
    "ps = PrefixSpan(db[:30])"
   ]
  },
  {
   "cell_type": "code",
   "execution_count": null,
   "metadata": {
    "colab": {
     "base_uri": "https://localhost:8080/"
    },
    "executionInfo": {
     "elapsed": 284,
     "status": "ok",
     "timestamp": 1657394830424,
     "user": {
      "displayName": "Data Science",
      "userId": "17975437373065072687"
     },
     "user_tz": -600
    },
    "id": "tGbKjTScXo8q",
    "outputId": "459026fd-6e19-4729-c237-9df0f3933831"
   },
   "outputs": [],
   "source": [
    "ps.frequent(2)"
   ]
  },
  {
   "cell_type": "code",
   "execution_count": null,
   "metadata": {
    "colab": {
     "base_uri": "https://localhost:8080/"
    },
    "executionInfo": {
     "elapsed": 284,
     "status": "ok",
     "timestamp": 1657394838762,
     "user": {
      "displayName": "Data Science",
      "userId": "17975437373065072687"
     },
     "user_tz": -600
    },
    "id": "qb-XqBCcX80Q",
    "outputId": "f36c4575-3d58-460e-8f02-5ba7c98ddd4d"
   },
   "outputs": [],
   "source": [
    "ps.topk(10)"
   ]
  },
  {
   "cell_type": "code",
   "execution_count": null,
   "metadata": {
    "colab": {
     "base_uri": "https://localhost:8080/"
    },
    "executionInfo": {
     "elapsed": 312,
     "status": "ok",
     "timestamp": 1657394843649,
     "user": {
      "displayName": "Data Science",
      "userId": "17975437373065072687"
     },
     "user_tz": -600
    },
    "id": "IjUq4POpYFsg",
    "outputId": "a51d4b2f-650b-45b8-d5b4-f4efd0ea1ed3"
   },
   "outputs": [],
   "source": [
    "ps.frequent(2, closed=True)"
   ]
  },
  {
   "cell_type": "code",
   "execution_count": null,
   "metadata": {
    "colab": {
     "base_uri": "https://localhost:8080/"
    },
    "executionInfo": {
     "elapsed": 284,
     "status": "ok",
     "timestamp": 1657394848463,
     "user": {
      "displayName": "Data Science",
      "userId": "17975437373065072687"
     },
     "user_tz": -600
    },
    "id": "nyDIc2RHYLl_",
    "outputId": "c13043c8-e327-4fc5-94cf-d48db66053d5"
   },
   "outputs": [],
   "source": [
    "ps.topk(5, closed=True)"
   ]
  },
  {
   "cell_type": "markdown",
   "metadata": {
    "id": "drInZ121cAV7"
   },
   "source": [
    "**Sequential Rule Mining**"
   ]
  },
  {
   "cell_type": "code",
   "execution_count": null,
   "metadata": {
    "id": "Fa02dWv1cVjS"
   },
   "outputs": [],
   "source": [
    "from prefixspan import PrefixSpan\n",
    "\n",
    "ps = PrefixSpan(db[:30])"
   ]
  },
  {
   "cell_type": "code",
   "execution_count": null,
   "metadata": {
    "id": "IljhLi_5chOp"
   },
   "outputs": [],
   "source": [
    "supports = [element[0] for element in ps.frequent(2)]\n",
    "patterns = [frozenset(element[1]) for element in ps.frequent(2)]"
   ]
  },
  {
   "cell_type": "code",
   "execution_count": null,
   "metadata": {
    "id": "OGjE4dGnYQAX"
   },
   "outputs": [],
   "source": [
    "#!pip install mlxtend --upgrade\n",
    "from mlxtend.frequent_patterns import association_rules\n",
    "df_ar = association_rules(df, metric = \"confidence\", min_threshold = 0.60)\n",
    "df_ar"
   ]
  },
  {
   "cell_type": "code",
   "execution_count": null,
   "metadata": {
    "colab": {
     "base_uri": "https://localhost:8080/",
     "height": 206
    },
    "executionInfo": {
     "elapsed": 296,
     "status": "ok",
     "timestamp": 1657395589199,
     "user": {
      "displayName": "Data Science",
      "userId": "17975437373065072687"
     },
     "user_tz": -600
    },
    "id": "aYIZFe20dtoU",
    "outputId": "9a87a24f-77e8-4082-8a4d-011d3fd55938"
   },
   "outputs": [],
   "source": [
    "import pandas as pd\n",
    "df = pd.DataFrame(zip(patterns, supports))\n",
    "df.columns = ['itemsets', 'support']\n",
    "df.head(5)"
   ]
  },
  {
   "cell_type": "code",
   "execution_count": null,
   "metadata": {
    "colab": {
     "base_uri": "https://localhost:8080/",
     "height": 1000
    },
    "executionInfo": {
     "elapsed": 314,
     "status": "ok",
     "timestamp": 1657395632353,
     "user": {
      "displayName": "Data Science",
      "userId": "17975437373065072687"
     },
     "user_tz": -600
    },
    "id": "VBowkD3jeV46",
    "outputId": "764547a8-7185-42dd-9789-8681d4ac5a83"
   },
   "outputs": [],
   "source": [
    "#!pip install mlxtend --upgrade\n",
    "from mlxtend.frequent_patterns import association_rules\n",
    "df_ar = association_rules(df, metric = \"confidence\", min_threshold = 0.60)\n",
    "df_ar"
   ]
  }
 ],
 "metadata": {
  "colab": {
   "authorship_tag": "ABX9TyO5sXD3s7SvgtXEX3kLqDUG",
   "collapsed_sections": [],
   "name": "B_5_Frequent_Pattern_Mining.ipynb",
   "provenance": []
  },
  "kernelspec": {
   "display_name": "Python 3",
   "language": "python",
   "name": "python3"
  },
  "language_info": {
   "codemirror_mode": {
    "name": "ipython",
    "version": 3
   },
   "file_extension": ".py",
   "mimetype": "text/x-python",
   "name": "python",
   "nbconvert_exporter": "python",
   "pygments_lexer": "ipython3",
   "version": "3.8.8"
  }
 },
 "nbformat": 4,
 "nbformat_minor": 1
}
